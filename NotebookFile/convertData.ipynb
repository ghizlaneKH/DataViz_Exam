{
 "cells": [
  {
   "cell_type": "code",
   "execution_count": 2,
   "id": "07fc9031",
   "metadata": {},
   "outputs": [],
   "source": [
    "import csv,json\n",
    "\n",
    "csvFilePath=\"predictive_maintenance.csv\"\n",
    "jsonFilePath=\"IOTData\"\n",
    "data={}\n",
    "with open(csvFilePath) as csvFile:\n",
    "    csvReader=csv.DictReader(csvFile)\n",
    "    for rows in csvReader:\n",
    "        id = rows[\"UDI\"]\n",
    "\n",
    "        data[id]=rows\n",
    "\n",
    "with open(jsonFilePath,'w') as jsonFile:\n",
    "    jsonFile.write(json.dumps(data,indent=0))"
   ]
  },
  {
   "cell_type": "code",
   "execution_count": null,
   "id": "c8aa13a0",
   "metadata": {},
   "outputs": [],
   "source": []
  }
 ],
 "metadata": {
  "kernelspec": {
   "display_name": "Python 3 (ipykernel)",
   "language": "python",
   "name": "python3"
  },
  "language_info": {
   "codemirror_mode": {
    "name": "ipython",
    "version": 3
   },
   "file_extension": ".py",
   "mimetype": "text/x-python",
   "name": "python",
   "nbconvert_exporter": "python",
   "pygments_lexer": "ipython3",
   "version": "3.8.5"
  }
 },
 "nbformat": 4,
 "nbformat_minor": 5
}
