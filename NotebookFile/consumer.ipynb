{
 "cells": [
  {
   "cell_type": "markdown",
   "id": "28bb0e93",
   "metadata": {},
   "source": [
    "# receive data from IotD\n"
   ]
  },
  {
   "cell_type": "code",
   "execution_count": null,
   "id": "6d0f3e4f",
   "metadata": {},
   "outputs": [],
   "source": [
    "from kafka import KafkaConsumer\n",
    "from pymongo import MongoClient\n",
    "from json import loads\n",
    "\n",
    "client = MongoClient('localhost:27017')\n",
    "collection = client.numtest.numtest\n",
    "\n",
    "consumer = KafkaConsumer(\n",
    "    'IotD',\n",
    "     bootstrap_servers=['localhost:9092'],\n",
    "     auto_offset_reset='earliest',\n",
    "     enable_auto_commit=True,\n",
    "\n",
    "     value_deserializer=lambda x: loads(x.decode('utf-8')))\n",
    "\n",
    "\n",
    "\n",
    "for message in consumer:\n",
    "    message1 = message.value\n",
    "    print(message1)\n",
    "\n",
    "\n",
    "    \n",
    "import pandas as pd\n",
    "rec_data= pd.DataFrame.from_dict(collection)\n",
    "rec_data.to_csv('resultcsv.csv',index=False)"
   ]
  },
  {
   "cell_type": "code",
   "execution_count": null,
   "id": "f485e96d",
   "metadata": {},
   "outputs": [],
   "source": []
  }
 ],
 "metadata": {
  "kernelspec": {
   "display_name": "Python 3 (ipykernel)",
   "language": "python",
   "name": "python3"
  },
  "language_info": {
   "codemirror_mode": {
    "name": "ipython",
    "version": 3
   },
   "file_extension": ".py",
   "mimetype": "text/x-python",
   "name": "python",
   "nbconvert_exporter": "python",
   "pygments_lexer": "ipython3",
   "version": "3.8.5"
  }
 },
 "nbformat": 4,
 "nbformat_minor": 5
}
